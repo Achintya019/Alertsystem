{
 "cells": [
  {
   "cell_type": "code",
   "execution_count": 2,
   "metadata": {},
   "outputs": [],
   "source": [
    "import pandas as pd\n"
   ]
  },
  {
   "cell_type": "code",
   "execution_count": 3,
   "metadata": {},
   "outputs": [],
   "source": [
    "file_path=\"/home/achintya-trn0175/Desktop/alertsystem/22June/22.csv\"\n",
    "df=pd.read_csv(file_path)"
   ]
  },
  {
   "cell_type": "code",
   "execution_count": 4,
   "metadata": {},
   "outputs": [
    {
     "data": {
      "text/html": [
       "<div>\n",
       "<style scoped>\n",
       "    .dataframe tbody tr th:only-of-type {\n",
       "        vertical-align: middle;\n",
       "    }\n",
       "\n",
       "    .dataframe tbody tr th {\n",
       "        vertical-align: top;\n",
       "    }\n",
       "\n",
       "    .dataframe thead th {\n",
       "        text-align: right;\n",
       "    }\n",
       "</style>\n",
       "<table border=\"1\" class=\"dataframe\">\n",
       "  <thead>\n",
       "    <tr style=\"text-align: right;\">\n",
       "      <th></th>\n",
       "      <th>timestamp</th>\n",
       "      <th>speed</th>\n",
       "      <th>alert</th>\n",
       "      <th>band</th>\n",
       "      <th>dets</th>\n",
       "      <th>path</th>\n",
       "    </tr>\n",
       "  </thead>\n",
       "  <tbody>\n",
       "    <tr>\n",
       "      <th>0</th>\n",
       "      <td>2024-06-24 13:55:41.286</td>\n",
       "      <td>0</td>\n",
       "      <td>false</td>\n",
       "      <td>O</td>\n",
       "      <td>0.0</td>\n",
       "      <td>none</td>\n",
       "    </tr>\n",
       "    <tr>\n",
       "      <th>1</th>\n",
       "      <td>2024-06-24 13:55:41.362</td>\n",
       "      <td>0</td>\n",
       "      <td>false</td>\n",
       "      <td>O</td>\n",
       "      <td>0.0</td>\n",
       "      <td>none</td>\n",
       "    </tr>\n",
       "    <tr>\n",
       "      <th>2</th>\n",
       "      <td>2024-06-24 13:55:41.447</td>\n",
       "      <td>0</td>\n",
       "      <td>false</td>\n",
       "      <td>O</td>\n",
       "      <td>0.0</td>\n",
       "      <td>none</td>\n",
       "    </tr>\n",
       "    <tr>\n",
       "      <th>3</th>\n",
       "      <td>2024-06-24 13:55:41.538</td>\n",
       "      <td>0</td>\n",
       "      <td>false</td>\n",
       "      <td>O</td>\n",
       "      <td>0.0</td>\n",
       "      <td>none</td>\n",
       "    </tr>\n",
       "    <tr>\n",
       "      <th>4</th>\n",
       "      <td>2024-06-24 13:55:41.634</td>\n",
       "      <td>0</td>\n",
       "      <td>false</td>\n",
       "      <td>O</td>\n",
       "      <td>0.0</td>\n",
       "      <td>none</td>\n",
       "    </tr>\n",
       "  </tbody>\n",
       "</table>\n",
       "</div>"
      ],
      "text/plain": [
       "                 timestamp  speed  alert band  dets  path\n",
       "0  2024-06-24 13:55:41.286      0  false    O   0.0  none\n",
       "1  2024-06-24 13:55:41.362      0  false    O   0.0  none\n",
       "2  2024-06-24 13:55:41.447      0  false    O   0.0  none\n",
       "3  2024-06-24 13:55:41.538      0  false    O   0.0  none\n",
       "4  2024-06-24 13:55:41.634      0  false    O   0.0  none"
      ]
     },
     "execution_count": 4,
     "metadata": {},
     "output_type": "execute_result"
    }
   ],
   "source": [
    "df.head()"
   ]
  },
  {
   "cell_type": "code",
   "execution_count": 5,
   "metadata": {},
   "outputs": [],
   "source": [
    "# Replace NaN values with \"none\" in 'path' column\n",
    "df['path'] = df['path'].fillna(\"none\")"
   ]
  },
  {
   "cell_type": "code",
   "execution_count": 6,
   "metadata": {},
   "outputs": [
    {
     "data": {
      "text/plain": [
       "path\n",
       "none                   24599\n",
       "20240624_135018.csv        2\n",
       "20240624_135127.csv        2\n",
       "20240624_134332.csv        2\n",
       "20240624_142254.csv        2\n",
       "                       ...  \n",
       "20240624_140048.csv        1\n",
       "20240624_140049.csv        1\n",
       "20240624_140050.csv        1\n",
       "20240624_140051.csv        1\n",
       "20240624_135745.csv        1\n",
       "Name: count, Length: 167, dtype: int64"
      ]
     },
     "execution_count": 6,
     "metadata": {},
     "output_type": "execute_result"
    }
   ],
   "source": [
    "df['path'].value_counts()\n"
   ]
  },
  {
   "cell_type": "code",
   "execution_count": 13,
   "metadata": {},
   "outputs": [
    {
     "name": "stderr",
     "output_type": "stream",
     "text": [
      "/tmp/ipykernel_17641/2485395174.py:1: FutureWarning: Downcasting behavior in `replace` is deprecated and will be removed in a future version. To retain the old behavior, explicitly call `result.infer_objects(copy=False)`. To opt-in to the future behavior, set `pd.set_option('future.no_silent_downcasting', True)`\n",
      "  df['alert'] = df['alert'].replace({'true': True, 'false': False, 'False': False,'True': True,'fal': False})\n"
     ]
    }
   ],
   "source": [
    "df['alert'] = df['alert'].replace({'true': True, 'false': False, 'False': False,'True': True,'fal': False})"
   ]
  },
  {
   "cell_type": "code",
   "execution_count": 16,
   "metadata": {},
   "outputs": [],
   "source": [
    "# Save the modified DataFrame back to the original CSV file\n",
    "df.to_csv('/home/achintya-trn0175/Desktop/alertsystem/22June/22.csv', index=False)"
   ]
  },
  {
   "cell_type": "code",
   "execution_count": 17,
   "metadata": {},
   "outputs": [
    {
     "data": {
      "text/plain": [
       "alert\n",
       "False    24709\n",
       "True        81\n",
       "Name: count, dtype: int64"
      ]
     },
     "execution_count": 17,
     "metadata": {},
     "output_type": "execute_result"
    }
   ],
   "source": [
    "df['alert'].value_counts()"
   ]
  },
  {
   "cell_type": "code",
   "execution_count": 1,
   "metadata": {},
   "outputs": [
    {
     "name": "stdout",
     "output_type": "stream",
     "text": [
      "Duplicates removed and file saved successfully.\n"
     ]
    }
   ],
   "source": [
    "import pandas as pd\n",
    "\n",
    "# Load the CSV file\n",
    "file_path = '/home/achintya-trn0175/Desktop/alertsystem/alert_log.csv'\n",
    "df = pd.read_csv(file_path)\n",
    "\n",
    "# Remove duplicate rows\n",
    "df_cleaned = df.drop_duplicates()\n",
    "\n",
    "# Save the cleaned data back to the original CSV file\n",
    "df_cleaned.to_csv(file_path, index=False)\n",
    "\n",
    "print(\"Duplicates removed and file saved successfully.\")\n"
   ]
  },
  {
   "cell_type": "code",
   "execution_count": null,
   "metadata": {},
   "outputs": [],
   "source": []
  },
  {
   "cell_type": "markdown",
   "metadata": {},
   "source": [
    "__Accuracy of Alertness__"
   ]
  },
  {
   "cell_type": "code",
   "execution_count": 3,
   "metadata": {},
   "outputs": [
    {
     "name": "stdout",
     "output_type": "stream",
     "text": [
      "79\n",
      "59\n",
      "Accuracy: 74.68%\n"
     ]
    }
   ],
   "source": [
    "# Load the CSV file\n",
    "alert_log_file = '/home/achintya-trn0175/Desktop/alertsystem/alert_log.csv'\n",
    "df = pd.read_csv(alert_log_file)\n",
    "# Calculate the total number of alerts\n",
    "total_alerts = len(df)\n",
    "print(total_alerts)\n",
    "# Calculate the number of correct alerts\n",
    "correct_alerts = df['correct_alert'].sum()\n",
    "print(correct_alerts)\n",
    "# Calculate accuracy\n",
    "accuracy = correct_alerts / total_alerts\n",
    "\n",
    "# Print the result\n",
    "print(f'Accuracy: {accuracy * 100:.2f}%')"
   ]
  },
  {
   "cell_type": "code",
   "execution_count": null,
   "metadata": {},
   "outputs": [],
   "source": []
  }
 ],
 "metadata": {
  "kernelspec": {
   "display_name": "myenv",
   "language": "python",
   "name": "python3"
  },
  "language_info": {
   "codemirror_mode": {
    "name": "ipython",
    "version": 3
   },
   "file_extension": ".py",
   "mimetype": "text/x-python",
   "name": "python",
   "nbconvert_exporter": "python",
   "pygments_lexer": "ipython3",
   "version": "3.9.19"
  }
 },
 "nbformat": 4,
 "nbformat_minor": 2
}
